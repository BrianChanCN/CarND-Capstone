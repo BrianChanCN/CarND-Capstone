{
 "cells": [
  {
   "cell_type": "markdown",
   "metadata": {},
   "source": [
    "# Object Detection Demo\n",
    "Welcome to the object detection inference walkthrough!  This notebook will walk you step by step through the process of using a pre-trained model to detect objects in an image. Make sure to follow the [installation instructions](https://github.com/tensorflow/models/blob/master/research/object_detection/g3doc/installation.md) before you start."
   ]
  },
  {
   "cell_type": "markdown",
   "metadata": {},
   "source": [
    "# Imports"
   ]
  },
  {
   "cell_type": "code",
   "execution_count": 1,
   "metadata": {
    "collapsed": false,
    "scrolled": true
   },
   "outputs": [
    {
     "data": {
      "text/plain": [
       "[name: \"/cpu:0\"\n",
       " device_type: \"CPU\"\n",
       " memory_limit: 268435456\n",
       " locality {\n",
       " }\n",
       " incarnation: 5729095258834954430]"
      ]
     },
     "execution_count": 1,
     "metadata": {},
     "output_type": "execute_result"
    }
   ],
   "source": [
    "import numpy as np\n",
    "import os\n",
    "import six.moves.urllib as urllib\n",
    "import sys\n",
    "import tarfile\n",
    "import tensorflow as tf\n",
    "import zipfile\n",
    "\n",
    "from collections import defaultdict\n",
    "from io import StringIO\n",
    "from matplotlib import pyplot as plt\n",
    "from PIL import Image\n",
    "import six\n",
    "from sklearn.model_selection import train_test_split\n",
    "\n",
    "from tensorflow.python.client import device_lib\n",
    "\n",
    "device_lib.list_local_devices()\n",
    "\n",
    "# tf.__version__sess = tf.Session(config=tf.ConfigProto(log_device_placement=True))\n",
    "# print(\"VERSION\", tf.__version__sess)"
   ]
  },
  {
   "cell_type": "markdown",
   "metadata": {},
   "source": [
    "## Env setup"
   ]
  },
  {
   "cell_type": "code",
   "execution_count": 2,
   "metadata": {
    "collapsed": true
   },
   "outputs": [],
   "source": [
    "# This is needed to display the images.\n",
    "%matplotlib inline\n",
    "\n",
    "# This is needed since the notebook is stored in the object_detection folder.\n",
    "# sys.path.append(\"..\")\n",
    "sys.path.append(\"./object_detection/\") # Pavlo's machine\n",
    "# sys.path.append(\"../../../../../../tensorflow-models/models/research/object_detection/\") # Pavlo's machine"
   ]
  },
  {
   "cell_type": "markdown",
   "metadata": {},
   "source": [
    "## Object detection imports\n",
    "Here are the imports from the object detection module."
   ]
  },
  {
   "cell_type": "code",
   "execution_count": 3,
   "metadata": {
    "collapsed": true
   },
   "outputs": [],
   "source": [
    "from utils import label_map_util\n",
    "\n",
    "from utils import visualization_utils as vis_util\n",
    "\n",
    "from utils import dataset_util"
   ]
  },
  {
   "cell_type": "markdown",
   "metadata": {},
   "source": [
    "# Model preparation "
   ]
  },
  {
   "cell_type": "markdown",
   "metadata": {},
   "source": [
    "## Variables\n",
    "\n",
    "Any model exported using the `export_inference_graph.py` tool can be loaded here simply by changing `PATH_TO_CKPT` to point to a new .pb file.  \n",
    "\n",
    "By default we use an \"SSD with Mobilenet\" model here. See the [detection model zoo](https://github.com/tensorflow/models/blob/master/research/object_detection/g3doc/detection_model_zoo.md) for a list of other models that can be run out-of-the-box with varying speeds and accuracies."
   ]
  },
  {
   "cell_type": "code",
   "execution_count": 6,
   "metadata": {
    "collapsed": true
   },
   "outputs": [],
   "source": [
    "# Change this to the dir\n",
    "DATA_DIR = './data_capstone'\n",
    "\n",
    "# What model to download.\n",
    "\n",
    "# MODEL_NAME = 'ssd_mobilenet_v1_coco_11_06_2017'\n",
    "MODEL_NAME = 'faster_rcnn_resnet101_coco_11_06_2017'\n",
    "MODEL_FILE = MODEL_NAME + '.tar.gz'\n",
    "DOWNLOAD_BASE = 'http://download.tensorflow.org/models/object_detection/'\n",
    "\n",
    "# Path to frozen detection graph. This is the actual model that is used for the object detection.\n",
    "PATH_TO_CKPT = MODEL_NAME + '/frozen_inference_graph.pb'\n",
    "PATH_TO_CKPT = os.path.join(DATA_DIR, MODEL_NAME + '/frozen_inference_graph.pb')\n",
    "\n",
    "# List of the strings that is used to add correct label for each box.\n",
    "PATH_TO_LABELS = os.path.join('./object_detection', 'data', 'mscoco_label_map.pbtxt')\n",
    "\n",
    "NUM_CLASSES = 90"
   ]
  },
  {
   "cell_type": "markdown",
   "metadata": {},
   "source": [
    "## Download Model"
   ]
  },
  {
   "cell_type": "code",
   "execution_count": 5,
   "metadata": {
    "collapsed": true
   },
   "outputs": [],
   "source": [
    "# opener = urllib.request.URLopener()\n",
    "# opener.retrieve(DOWNLOAD_BASE + MODEL_FILE, MODEL_FILE)\n",
    "# tar_file = tarfile.open(MODEL_FILE)\n",
    "# for file in tar_file.getmembers():\n",
    "#   file_name = os.path.basename(file.name)\n",
    "#   if 'frozen_inference_graph.pb' in file_name:\n",
    "#     tar_file.extract(file, os.getcwd())"
   ]
  },
  {
   "cell_type": "markdown",
   "metadata": {},
   "source": [
    "## Load a (frozen) Tensorflow model into memory."
   ]
  },
  {
   "cell_type": "code",
   "execution_count": 7,
   "metadata": {
    "collapsed": false
   },
   "outputs": [],
   "source": [
    "detection_graph = tf.Graph()\n",
    "with detection_graph.as_default():\n",
    "  od_graph_def = tf.GraphDef()\n",
    "  with tf.gfile.GFile(PATH_TO_CKPT, 'rb') as fid:\n",
    "    serialized_graph = fid.read()\n",
    "    od_graph_def.ParseFromString(serialized_graph)\n",
    "    tf.import_graph_def(od_graph_def, name='')"
   ]
  },
  {
   "cell_type": "markdown",
   "metadata": {},
   "source": [
    "## Loading label map\n",
    "Label maps map indices to category names, so that when our convolution network predicts `5`, we know that this corresponds to `airplane`.  Here we use internal utility functions, but anything that returns a dictionary mapping integers to appropriate string labels would be fine"
   ]
  },
  {
   "cell_type": "code",
   "execution_count": 8,
   "metadata": {
    "collapsed": true
   },
   "outputs": [],
   "source": [
    "label_map = label_map_util.load_labelmap(PATH_TO_LABELS)\n",
    "categories = label_map_util.convert_label_map_to_categories(label_map, max_num_classes=NUM_CLASSES, use_display_name=True)\n",
    "category_index = label_map_util.create_category_index(categories)"
   ]
  },
  {
   "cell_type": "code",
   "execution_count": 9,
   "metadata": {
    "collapsed": false
   },
   "outputs": [
    {
     "name": "stdout",
     "output_type": "stream",
     "text": [
      "{1: {'name': 'person', 'id': 1}, 2: {'name': 'bicycle', 'id': 2}, 3: {'name': 'car', 'id': 3}, 4: {'name': 'motorcycle', 'id': 4}, 5: {'name': 'airplane', 'id': 5}, 6: {'name': 'bus', 'id': 6}, 7: {'name': 'train', 'id': 7}, 8: {'name': 'truck', 'id': 8}, 9: {'name': 'boat', 'id': 9}, 10: {'name': 'traffic light', 'id': 10}, 11: {'name': 'fire hydrant', 'id': 11}, 13: {'name': 'stop sign', 'id': 13}, 14: {'name': 'parking meter', 'id': 14}, 15: {'name': 'bench', 'id': 15}, 16: {'name': 'bird', 'id': 16}, 17: {'name': 'cat', 'id': 17}, 18: {'name': 'dog', 'id': 18}, 19: {'name': 'horse', 'id': 19}, 20: {'name': 'sheep', 'id': 20}, 21: {'name': 'cow', 'id': 21}, 22: {'name': 'elephant', 'id': 22}, 23: {'name': 'bear', 'id': 23}, 24: {'name': 'zebra', 'id': 24}, 25: {'name': 'giraffe', 'id': 25}, 27: {'name': 'backpack', 'id': 27}, 28: {'name': 'umbrella', 'id': 28}, 31: {'name': 'handbag', 'id': 31}, 32: {'name': 'tie', 'id': 32}, 33: {'name': 'suitcase', 'id': 33}, 34: {'name': 'frisbee', 'id': 34}, 35: {'name': 'skis', 'id': 35}, 36: {'name': 'snowboard', 'id': 36}, 37: {'name': 'sports ball', 'id': 37}, 38: {'name': 'kite', 'id': 38}, 39: {'name': 'baseball bat', 'id': 39}, 40: {'name': 'baseball glove', 'id': 40}, 41: {'name': 'skateboard', 'id': 41}, 42: {'name': 'surfboard', 'id': 42}, 43: {'name': 'tennis racket', 'id': 43}, 44: {'name': 'bottle', 'id': 44}, 46: {'name': 'wine glass', 'id': 46}, 47: {'name': 'cup', 'id': 47}, 48: {'name': 'fork', 'id': 48}, 49: {'name': 'knife', 'id': 49}, 50: {'name': 'spoon', 'id': 50}, 51: {'name': 'bowl', 'id': 51}, 52: {'name': 'banana', 'id': 52}, 53: {'name': 'apple', 'id': 53}, 54: {'name': 'sandwich', 'id': 54}, 55: {'name': 'orange', 'id': 55}, 56: {'name': 'broccoli', 'id': 56}, 57: {'name': 'carrot', 'id': 57}, 58: {'name': 'hot dog', 'id': 58}, 59: {'name': 'pizza', 'id': 59}, 60: {'name': 'donut', 'id': 60}, 61: {'name': 'cake', 'id': 61}, 62: {'name': 'chair', 'id': 62}, 63: {'name': 'couch', 'id': 63}, 64: {'name': 'potted plant', 'id': 64}, 65: {'name': 'bed', 'id': 65}, 67: {'name': 'dining table', 'id': 67}, 70: {'name': 'toilet', 'id': 70}, 72: {'name': 'tv', 'id': 72}, 73: {'name': 'laptop', 'id': 73}, 74: {'name': 'mouse', 'id': 74}, 75: {'name': 'remote', 'id': 75}, 76: {'name': 'keyboard', 'id': 76}, 77: {'name': 'cell phone', 'id': 77}, 78: {'name': 'microwave', 'id': 78}, 79: {'name': 'oven', 'id': 79}, 80: {'name': 'toaster', 'id': 80}, 81: {'name': 'sink', 'id': 81}, 82: {'name': 'refrigerator', 'id': 82}, 84: {'name': 'book', 'id': 84}, 85: {'name': 'clock', 'id': 85}, 86: {'name': 'vase', 'id': 86}, 87: {'name': 'scissors', 'id': 87}, 88: {'name': 'teddy bear', 'id': 88}, 89: {'name': 'hair drier', 'id': 89}, 90: {'name': 'toothbrush', 'id': 90}}\n"
     ]
    }
   ],
   "source": [
    "print(category_index)"
   ]
  },
  {
   "cell_type": "markdown",
   "metadata": {},
   "source": [
    "## Helper code"
   ]
  },
  {
   "cell_type": "code",
   "execution_count": 10,
   "metadata": {
    "collapsed": true
   },
   "outputs": [],
   "source": [
    "def load_image_into_numpy_array(image):\n",
    "  (im_width, im_height) = image.size\n",
    "  return np.array(image.getdata()).reshape(\n",
    "      (im_height, im_width, 3)).astype(np.uint8)"
   ]
  },
  {
   "cell_type": "markdown",
   "metadata": {},
   "source": [
    "# Detection"
   ]
  },
  {
   "cell_type": "code",
   "execution_count": 11,
   "metadata": {
    "collapsed": false
   },
   "outputs": [
    {
     "name": "stdout",
     "output_type": "stream",
     "text": [
      "['./data_capstone/sim_test_images/session1_01.jpg', './data_capstone/sim_test_images/session1_02.jpg', './data_capstone/sim_test_images/session1_03.jpg', './data_capstone/sim_test_images/session1_04.jpg', './data_capstone/sim_test_images/session1_05.jpg']\n"
     ]
    }
   ],
   "source": [
    "# For the sake of simplicity we will use only 2 images:\n",
    "# image1.jpg\n",
    "# image2.jpg\n",
    "# If you want to test the code with your images, just add path to the images to the TEST_IMAGE_PATHS.\n",
    "\n",
    "# PATH_TO_TEST_IMAGES_DIR = os.path.join(DATA_DIR, 'test_images')\n",
    "# TEST_IMAGE_PATHS = [ os.path.join(PATH_TO_TEST_IMAGES_DIR, 'just_traffic_light_0{}.jpg'.format(120 + i)) for i in range(0, 3) ]\n",
    "\n",
    "PATH_TO_TEST_IMAGES_DIR = os.path.join(DATA_DIR, 'sim_test_images')\n",
    "TEST_IMAGE_PATHS = [ os.path.join(PATH_TO_TEST_IMAGES_DIR, 'session1_{:02d}.jpg'.format(i + 1)) for i in range(0, 5) ]\n",
    "\n",
    "print(TEST_IMAGE_PATHS)\n",
    "\n",
    "\n",
    "# Size, in inches, of the output images.\n",
    "IMAGE_SIZE = (16, 12)"
   ]
  },
  {
   "cell_type": "code",
   "execution_count": 17,
   "metadata": {
    "collapsed": true
   },
   "outputs": [],
   "source": [
    "def encode_image_array_as_jpg_str(image):\n",
    "  \"\"\"Encodes a numpy array into a JPEG string.\n",
    "\n",
    "  Args:\n",
    "    image: a numpy array with shape [height, width, 3].\n",
    "\n",
    "  Returns:\n",
    "    JPEG encoded image string.\n",
    "  \"\"\"\n",
    "  image_pil = Image.fromarray(np.uint8(image))\n",
    "  output = six.BytesIO()\n",
    "  image_pil.save(output, format='JPEG')\n",
    "  jpg_string = output.getvalue()\n",
    "  output.close()\n",
    "  return jpg_string\n",
    "\n",
    "def create_record(boxes, newclass, image, filepath):\n",
    "    textlabel = [ 'RED', 'YELLOW', 'GREEN' ]\n",
    "    label = [ 1, 2, 3 ]\n",
    "    \n",
    "    height = image.shape[0]\n",
    "    width = image.shape[1]\n",
    "    filename = filepath\n",
    "    encoded_image_data = encode_image_array_as_jpg_str(image)\n",
    "    image_format = b'jpeg'\n",
    "\n",
    "    ymins = []\n",
    "    xmins = []\n",
    "    ymaxs = []\n",
    "    xmaxs = []\n",
    "    classes_text = []\n",
    "    classes = []\n",
    "    \n",
    "    for box in boxes:\n",
    "        ymins.append(box[0])\n",
    "        xmins.append(box[1])\n",
    "        ymaxs.append(box[2])\n",
    "        xmaxs.append(box[3])\n",
    "        classes_text.append(textlabel[newclass].encode('utf-8'))\n",
    "        classes.append(label[newclass])\n",
    "        \n",
    "    print('classes = ', classes)\n",
    "\n",
    "    \n",
    "#     xmins = [ box[1] ] # List of normalized left x coordinates in bounding box (1 per box)\n",
    "#     xmaxs = [ box[3] ] # List of normalized right x coordinates in bounding box\n",
    "#     # (1 per box)\n",
    "#     ymins = [ box[0] ] # List of normalized top y coordinates in bounding box (1 per box)\n",
    "#     ymaxs = [ box[2] ] # List of normalized bottom y coordinates in bounding box\n",
    "#     # (1 per box)\n",
    "#     classes_text = [ textlabel[newclass].encode('utf-8') ] # List of string class name of bounding box (1 per box)\n",
    "#     classes = [ label[newclass] ] # List of integer class id of bounding box (1 per box)\n",
    "\n",
    "    tf_record = tf.train.Example(features=tf.train.Features(feature={\n",
    "        'image/height': dataset_util.int64_feature(height),\n",
    "        'image/width': dataset_util.int64_feature(width),\n",
    "        'image/filename': dataset_util.bytes_feature(filename.encode('utf-8')),\n",
    "        'image/source_id': dataset_util.bytes_feature(filename.encode('utf-8')),\n",
    "        'image/encoded': dataset_util.bytes_feature(encoded_image_data),\n",
    "        'image/format': dataset_util.bytes_feature(image_format),\n",
    "        'image/object/bbox/xmin': dataset_util.float_list_feature(xmins),\n",
    "        'image/object/bbox/xmax': dataset_util.float_list_feature(xmaxs),\n",
    "        'image/object/bbox/ymin': dataset_util.float_list_feature(ymins),\n",
    "        'image/object/bbox/ymax': dataset_util.float_list_feature(ymaxs),\n",
    "        'image/object/class/text': dataset_util.bytes_list_feature(classes_text),\n",
    "        'image/object/class/label': dataset_util.int64_list_feature(classes),\n",
    "    }))\n",
    "    return tf_record"
   ]
  },
  {
   "cell_type": "code",
   "execution_count": 19,
   "metadata": {
    "collapsed": false,
    "scrolled": true
   },
   "outputs": [
    {
     "name": "stdout",
     "output_type": "stream",
     "text": [
      "IMAGE_FILES_CSV =  ./data_capstone/sim_test_images/session1.csv\n",
      "IMAGE_FILES_CSV =  ./data_capstone/sim_test_images/session2.csv\n",
      "imagefiles1 len =  550\n",
      "labels1 len =  550\n",
      "imagefiles2 len =  442\n",
      "labels2 len =  442\n",
      "imagefiles len =  992\n",
      "labels len =  992\n",
      "imagefiles_train len =  843\n",
      "labels_train len =  843\n",
      "imagefiles_test len =  149\n",
      "labels_test len =  149\n",
      "Preparing tf records:  ./data_capstone/train_data/train_data.record-test  ...\n",
      "processing image  ./data_capstone/sim_test_images/session1_290.jpg\n",
      "len boxes =  3\n",
      "classes =  [1, 1, 1]\n",
      "processing image  ./data_capstone/sim_test_images/session2_335.jpg\n",
      "len boxes =  3\n",
      "classes =  [1, 1, 1]\n",
      "processing image  ./data_capstone/sim_test_images/session1_218.jpg\n",
      "len boxes =  3\n",
      "classes =  [1, 1, 1]\n",
      "recorded 3 records\n",
      "Preparing tf records:  ./data_capstone/train_data/test_data.record-test  ...\n",
      "processing image  ./data_capstone/sim_test_images/session1_213.jpg\n",
      "len boxes =  3\n",
      "classes =  [1, 1, 1]\n",
      "processing image  ./data_capstone/sim_test_images/session1_331.jpg\n",
      "len boxes =  3\n",
      "classes =  [3, 3, 3]\n",
      "processing image  ./data_capstone/sim_test_images/session1_501.jpg\n",
      "len boxes =  4\n",
      "classes =  [1, 1, 1, 1]\n",
      "recorded 3 records\n"
     ]
    },
    {
     "data": {
      "text/plain": [
       "'\\nwriter = tf.python_io.TFRecordWriter(RECORD_FILE_NAME)\\nwith detection_graph.as_default():\\n  with tf.Session(graph=detection_graph) as sess:\\n    # Definite input and output Tensors for detection_graph\\n    image_tensor = detection_graph.get_tensor_by_name(\\'image_tensor:0\\')\\n    # Each box represents a part of the image where a particular object was detected.\\n    detection_boxes = detection_graph.get_tensor_by_name(\\'detection_boxes:0\\')\\n    # Each score represent how level of confidence for each of the objects.\\n    # Score is shown on the result image, together with the class label.\\n    detection_scores = detection_graph.get_tensor_by_name(\\'detection_scores:0\\')\\n    detection_classes = detection_graph.get_tensor_by_name(\\'detection_classes:0\\')\\n    num_detections = detection_graph.get_tensor_by_name(\\'num_detections:0\\')\\n    for image_path, image_label in zip(imagefiles, labels): # TEST_IMAGE_PATHS\\n      image = Image.open(image_path)\\n      # the array based representation of the image will be used later in order to prepare the\\n      # result image with boxes and labels on it.\\n      image_np = load_image_into_numpy_array(image)\\n      # Expand dimensions since the model expects images to have shape: [1, None, None, 3]\\n      image_np_expanded = np.expand_dims(image_np, axis=0)\\n      # Actual detection.\\n      (boxes, scores, classes, num) = sess.run(\\n          [detection_boxes, detection_scores, detection_classes, num_detections],\\n          feed_dict={image_tensor: image_np_expanded})\\n      \\n      classes = np.squeeze(classes).astype(np.int32)\\n      boxes = np.squeeze(boxes)\\n      scores = np.squeeze(scores)\\n    \\n      light_classes = []\\n      light_boxes = []\\n      light_scores = []\\n      for j in range(len(classes)):\\n        if classes[j] == TRAFFIC_LIGHT:\\n            if scores[j] is not None and scores[j] > THRESHOLD:\\n                print(\"score:\", scores[j],\"box:\",boxes[j])\\n                light_classes.append(classes[j])\\n                light_boxes.append(boxes[j])\\n                light_scores.append(scores[j])\\n                record = create_record(boxes[j], image_label, image_np, image_path)\\n                writer.write(record.SerializeToString())\\n#                 print(\\'record = \\', record)\\n    \\n#       print(\\'boxes = \\', boxes)\\n#       print(\\'classes = \\', classes)\\n#       print(\\'scores = \\', scores)\\n      # Visualization of the results of a detection.\\n     \\n#       vis_util.visualize_boxes_and_labels_on_image_array(\\n#           image_np,\\n#           np.squeeze(light_boxes),\\n#           np.squeeze(light_classes).astype(np.int32),\\n#           np.squeeze(light_scores),\\n#           category_index,\\n#           use_normalized_coordinates=True,\\n#           line_thickness=6)\\n#       plt.figure(figsize=IMAGE_SIZE)\\n#       plt.imshow(image_np)\\n     \\n        \\nwriter.close()\\n'"
      ]
     },
     "execution_count": 19,
     "metadata": {},
     "output_type": "execute_result"
    }
   ],
   "source": [
    "TRAFFIC_LIGHT = 10\n",
    "THRESHOLD = 0.8\n",
    "\n",
    "IMAGE_FILES_DIR = os.path.join(DATA_DIR, 'sim_test_images')\n",
    "IMAGE_FILES_CSV1 = os.path.join(IMAGE_FILES_DIR, 'session1.csv')\n",
    "IMAGE_FILES_CSV2 = os.path.join(IMAGE_FILES_DIR, 'session2.csv')\n",
    "\n",
    "RECORD_FILE_NAME_TRAIN = os.path.join(DATA_DIR, 'train_data', 'train_data_multi.record')\n",
    "RECORD_FILE_NAME_TEST = os.path.join(DATA_DIR, 'train_data', 'test_data_multi.record')\n",
    "\n",
    "\n",
    "def load_images_labels(csv_file, images_dir):\n",
    "    imagefiles = []\n",
    "    labels = []\n",
    "\n",
    "    print('IMAGE_FILES_CSV = ', csv_file)\n",
    "\n",
    "    with open(csv_file) as f:\n",
    "      cnt = 0\n",
    "      for line in f:\n",
    "        if cnt > 0:\n",
    "          data = line.split(',')\n",
    "          data_path = data[7].replace(\"'\", \"\")\n",
    "          image_path = data_path.split('/')[3]\n",
    "          imagefiles.append(os.path.join(images_dir, image_path))\n",
    "          labels.append(int(data[8]))\n",
    "        cnt += 1\n",
    "    return imagefiles, labels\n",
    "\n",
    "\n",
    "imagefiles = []\n",
    "labels = []\n",
    "\n",
    "imagefiles1, labels1 = load_images_labels(IMAGE_FILES_CSV1, IMAGE_FILES_DIR)\n",
    "imagefiles2, labels2 = load_images_labels(IMAGE_FILES_CSV2, IMAGE_FILES_DIR)\n",
    "\n",
    "print('imagefiles1 len = ', len(imagefiles1))\n",
    "print('labels1 len = ', len(labels1))\n",
    "\n",
    "print('imagefiles2 len = ', len(imagefiles2))\n",
    "print('labels2 len = ', len(labels2))\n",
    "\n",
    "\n",
    "\n",
    "imagefiles.extend(imagefiles1)\n",
    "imagefiles.extend(imagefiles2)\n",
    "labels.extend(labels1)\n",
    "labels.extend(labels2)\n",
    "\n",
    "print('imagefiles len = ', len(imagefiles))\n",
    "print('labels len = ', len(labels))\n",
    "\n",
    "imagefiles_train, imagefiles_test, labels_train, labels_test = train_test_split(\n",
    "    imagefiles, labels, test_size=0.15, random_state=42)\n",
    "\n",
    "print('imagefiles_train len = ', len(imagefiles_train))\n",
    "print('labels_train len = ', len(labels_train))\n",
    "\n",
    "print('imagefiles_test len = ', len(imagefiles_test))\n",
    "print('labels_test len = ', len(labels_test))\n",
    "\n",
    "\n",
    "def prepare_tf_record_file(images, labels, record_filename):\n",
    "    print('Preparing tf records: ', record_filename, ' ...')\n",
    "    writer = tf.python_io.TFRecordWriter(record_filename)\n",
    "    records_cnt = 0\n",
    "    with detection_graph.as_default():\n",
    "      with tf.Session(graph=detection_graph) as sess:\n",
    "        # Definite input and output Tensors for detection_graph\n",
    "        image_tensor = detection_graph.get_tensor_by_name('image_tensor:0')\n",
    "        # Each box represents a part of the image where a particular object was detected.\n",
    "        detection_boxes = detection_graph.get_tensor_by_name('detection_boxes:0')\n",
    "        # Each score represent how level of confidence for each of the objects.\n",
    "        # Score is shown on the result image, together with the class label.\n",
    "        detection_scores = detection_graph.get_tensor_by_name('detection_scores:0')\n",
    "        detection_classes = detection_graph.get_tensor_by_name('detection_classes:0')\n",
    "        num_detections = detection_graph.get_tensor_by_name('num_detections:0')\n",
    "        for image_path, image_label in zip(images, labels): # TEST_IMAGE_PATHS\n",
    "          print('processing image ', image_path)\n",
    "          image = Image.open(image_path)\n",
    "          # the array based representation of the image will be used later in order to prepare the\n",
    "          # result image with boxes and labels on it.\n",
    "          image_np = load_image_into_numpy_array(image)\n",
    "          # Expand dimensions since the model expects images to have shape: [1, None, None, 3]\n",
    "          image_np_expanded = np.expand_dims(image_np, axis=0)\n",
    "          # Actual detection.\n",
    "          (boxes, scores, classes, num) = sess.run(\n",
    "              [detection_boxes, detection_scores, detection_classes, num_detections],\n",
    "              feed_dict={image_tensor: image_np_expanded})\n",
    "\n",
    "          classes = np.squeeze(classes).astype(np.int32)\n",
    "          boxes = np.squeeze(boxes)\n",
    "          scores = np.squeeze(scores)\n",
    "\n",
    "          light_classes = []\n",
    "          light_boxes = []\n",
    "          light_scores = []\n",
    "          for j in range(len(classes)):\n",
    "            if classes[j] == TRAFFIC_LIGHT:\n",
    "                if scores[j] is not None and scores[j] > THRESHOLD:\n",
    "#                     print(\"score:\", scores[j],\"box:\",boxes[j])\n",
    "                    light_classes.append(classes[j])\n",
    "                    light_boxes.append(boxes[j])\n",
    "                    light_scores.append(scores[j])\n",
    "          if len(light_boxes) > 0:\n",
    "              print('len boxes = ', len(light_boxes))\n",
    "              record = create_record(light_boxes, image_label, image_np, image_path)\n",
    "              writer.write(record.SerializeToString())\n",
    "              records_cnt += 1\n",
    "\n",
    "    writer.close()\n",
    "    print('recorded {} records'.format(records_cnt))\n",
    "    \n",
    "    \n",
    "prepare_tf_record_file(imagefiles_train, labels_train, RECORD_FILE_NAME_TRAIN)\n",
    "prepare_tf_record_file(imagefiles_test, labels_test, RECORD_FILE_NAME_TEST)\n",
    "\n",
    "\n",
    "        \n",
    "# print('imagefiles = ', imagefiles[:10])\n",
    "# print('labels = ', labels[:10])\n",
    "\n",
    "'''\n",
    "writer = tf.python_io.TFRecordWriter(RECORD_FILE_NAME)\n",
    "with detection_graph.as_default():\n",
    "  with tf.Session(graph=detection_graph) as sess:\n",
    "    # Definite input and output Tensors for detection_graph\n",
    "    image_tensor = detection_graph.get_tensor_by_name('image_tensor:0')\n",
    "    # Each box represents a part of the image where a particular object was detected.\n",
    "    detection_boxes = detection_graph.get_tensor_by_name('detection_boxes:0')\n",
    "    # Each score represent how level of confidence for each of the objects.\n",
    "    # Score is shown on the result image, together with the class label.\n",
    "    detection_scores = detection_graph.get_tensor_by_name('detection_scores:0')\n",
    "    detection_classes = detection_graph.get_tensor_by_name('detection_classes:0')\n",
    "    num_detections = detection_graph.get_tensor_by_name('num_detections:0')\n",
    "    for image_path, image_label in zip(imagefiles, labels): # TEST_IMAGE_PATHS\n",
    "      image = Image.open(image_path)\n",
    "      # the array based representation of the image will be used later in order to prepare the\n",
    "      # result image with boxes and labels on it.\n",
    "      image_np = load_image_into_numpy_array(image)\n",
    "      # Expand dimensions since the model expects images to have shape: [1, None, None, 3]\n",
    "      image_np_expanded = np.expand_dims(image_np, axis=0)\n",
    "      # Actual detection.\n",
    "      (boxes, scores, classes, num) = sess.run(\n",
    "          [detection_boxes, detection_scores, detection_classes, num_detections],\n",
    "          feed_dict={image_tensor: image_np_expanded})\n",
    "      \n",
    "      classes = np.squeeze(classes).astype(np.int32)\n",
    "      boxes = np.squeeze(boxes)\n",
    "      scores = np.squeeze(scores)\n",
    "    \n",
    "      light_classes = []\n",
    "      light_boxes = []\n",
    "      light_scores = []\n",
    "      for j in range(len(classes)):\n",
    "        if classes[j] == TRAFFIC_LIGHT:\n",
    "            if scores[j] is not None and scores[j] > THRESHOLD:\n",
    "                print(\"score:\", scores[j],\"box:\",boxes[j])\n",
    "                light_classes.append(classes[j])\n",
    "                light_boxes.append(boxes[j])\n",
    "                light_scores.append(scores[j])\n",
    "                record = create_record(boxes[j], image_label, image_np, image_path)\n",
    "                writer.write(record.SerializeToString())\n",
    "#                 print('record = ', record)\n",
    "    \n",
    "#       print('boxes = ', boxes)\n",
    "#       print('classes = ', classes)\n",
    "#       print('scores = ', scores)\n",
    "      # Visualization of the results of a detection.\n",
    "     \n",
    "#       vis_util.visualize_boxes_and_labels_on_image_array(\n",
    "#           image_np,\n",
    "#           np.squeeze(light_boxes),\n",
    "#           np.squeeze(light_classes).astype(np.int32),\n",
    "#           np.squeeze(light_scores),\n",
    "#           category_index,\n",
    "#           use_normalized_coordinates=True,\n",
    "#           line_thickness=6)\n",
    "#       plt.figure(figsize=IMAGE_SIZE)\n",
    "#       plt.imshow(image_np)\n",
    "     \n",
    "        \n",
    "writer.close()\n",
    "'''\n"
   ]
  },
  {
   "cell_type": "code",
   "execution_count": null,
   "metadata": {
    "collapsed": true
   },
   "outputs": [],
   "source": []
  }
 ],
 "metadata": {
  "anaconda-cloud": {},
  "kernelspec": {
   "display_name": "Python [conda env:python3]",
   "language": "python",
   "name": "conda-env-python3-py"
  },
  "language_info": {
   "codemirror_mode": {
    "name": "ipython",
    "version": 3
   },
   "file_extension": ".py",
   "mimetype": "text/x-python",
   "name": "python",
   "nbconvert_exporter": "python",
   "pygments_lexer": "ipython3",
   "version": "3.5.2"
  }
 },
 "nbformat": 4,
 "nbformat_minor": 2
}
