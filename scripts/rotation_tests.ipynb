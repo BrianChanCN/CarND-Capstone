{
 "cells": [
  {
   "cell_type": "code",
   "execution_count": 78,
   "metadata": {
    "collapsed": false
   },
   "outputs": [
    {
     "name": "stdout",
     "output_type": "stream",
     "text": [
      "rt =  [[  3.74939946e-33   1.00000000e+00   6.12323400e-17   0.00000000e+00]\n",
      " [ -6.12323400e-17   6.12323400e-17  -1.00000000e+00   0.00000000e+00]\n",
      " [ -1.00000000e+00   0.00000000e+00   6.12323400e-17   0.00000000e+00]]\n",
      "K =  [[  1   0 400]\n",
      " [  0   1 300]\n",
      " [  0   0   1]]\n",
      "x =  [[ 10.]\n",
      " [-10.]\n",
      " [ -1.]]\n",
      "uv = \n",
      " [[ 410.]\n",
      " [ 290.]\n",
      " [   1.]]\n",
      "uv = \n",
      " [[ 410.]\n",
      " [ 290.]\n",
      " [   1.]]\n"
     ]
    }
   ],
   "source": [
    "import numpy as np\n",
    "\n",
    "\n",
    "theta = np.radians(90)\n",
    "\n",
    "\n",
    "c, s = np.cos(theta), np.sin(theta)\n",
    "ci, si = np.cos(-theta), np.sin(-theta)\n",
    "\n",
    "rot_y = np.matrix([\n",
    "        [ci, 0, si, 0],\n",
    "        [0,  1, 0,  0],\n",
    "        [-si,0, ci, 0],\n",
    "        [0,  0,  0, 1]\n",
    "    ])\n",
    "\n",
    "rot_z = np.matrix([\n",
    "        [c, -s, 0, 0],\n",
    "        [s,  c, 0, 0],\n",
    "        [0,  0, 1, 0],\n",
    "        [0,  0, 0, 1]\n",
    "    ])\n",
    "\n",
    "rot_eye = np.eye(4)\n",
    "\n",
    "rot_yz = rot_y.dot(rot_z)\n",
    "rt = np.transpose(rot_yz)\n",
    "\n",
    "rt = rt[0:3, 0:4]\n",
    "print('rt = ', rt)\n",
    "\n",
    "\n",
    "\n",
    "cx = 400\n",
    "cy = 300\n",
    "\n",
    "K = np.matrix([\n",
    "        [1, 0, cx],\n",
    "        [0, 1, cy],\n",
    "        [0, 0, 1]\n",
    "    ])\n",
    "\n",
    "print('K = ', K)\n",
    "\n",
    "point = np.array([1, 10, 10, 1])\n",
    "\n",
    "# np.transpose(rot_yz).dot(point)\n",
    "x = rt.dot(point)\n",
    "# print('x1 = ', x)\n",
    "x = np.reshape(x, (3,-1))\n",
    "# print('x2 = ', x)\n",
    "# x = rt.dot(point)\n",
    "# x = point\n",
    "print('x = ', x)\n",
    "\n",
    "x[2] *= -1.0\n",
    "\n",
    "uv = K.dot(x)\n",
    "uv = np.reshape(uv, (3,-1))\n",
    "print('uv = \\n', uv)\n",
    "uv = uv/uv[2]\n",
    "\n",
    "print('uv = \\n', uv)\n",
    "\n",
    "# Normalize\n",
    "\n",
    "\n"
   ]
  },
  {
   "cell_type": "code",
   "execution_count": null,
   "metadata": {
    "collapsed": true
   },
   "outputs": [],
   "source": []
  }
 ],
 "metadata": {
  "anaconda-cloud": {},
  "kernelspec": {
   "display_name": "Python [conda env:python3]",
   "language": "python",
   "name": "conda-env-python3-py"
  },
  "language_info": {
   "codemirror_mode": {
    "name": "ipython",
    "version": 3
   },
   "file_extension": ".py",
   "mimetype": "text/x-python",
   "name": "python",
   "nbconvert_exporter": "python",
   "pygments_lexer": "ipython3",
   "version": "3.5.2"
  }
 },
 "nbformat": 4,
 "nbformat_minor": 2
}
